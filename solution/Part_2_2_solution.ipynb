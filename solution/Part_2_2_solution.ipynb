{
 "cells": [
  {
   "cell_type": "code",
   "execution_count": 3,
   "id": "7796d6c6",
   "metadata": {},
   "outputs": [],
   "source": [
    "class MovingTotal:\n",
    "    def __init__(self):\n",
    "        self.numbers=[]\n",
    "        \n",
    "    def append(self, numbers):\n",
    "        self.numbers.extend(numbers)\n",
    "    \n",
    "    def contains(self, total): \n",
    "        if len(self.numbers) > 0:\n",
    "            sum_list = []\n",
    "            for i in range(len(self.numbers)-2):\n",
    "                sum_list.append(sum(self.numbers[i:3+i:]))\n",
    "        if total in sum_list:\n",
    "            return True\n",
    "        else:\n",
    "            return False"
   ]
  },
  {
   "cell_type": "code",
   "execution_count": 4,
   "id": "5646f53b",
   "metadata": {},
   "outputs": [
    {
     "name": "stdout",
     "output_type": "stream",
     "text": [
      "True\n",
      "True\n",
      "False\n",
      "False\n",
      "True\n",
      "True\n",
      "True\n",
      "False\n"
     ]
    }
   ],
   "source": [
    "if __name__ == \"__main__\": \n",
    "    movingtotal = MovingTotal()\n",
    "    movingtotal.append([1, 2, 3, 4])\n",
    "    print(movingtotal.contains(6))\n",
    "    print(movingtotal.contains(9))\n",
    "    print(movingtotal.contains(12))\n",
    "    print(movingtotal.contains(7))\n",
    "    \n",
    "    movingtotal.append([5])\n",
    "    print(movingtotal.contains(6))\n",
    "    print(movingtotal.contains(9))\n",
    "    print(movingtotal.contains(12))\n",
    "    print(movingtotal.contains(7))"
   ]
  }
 ],
 "metadata": {
  "kernelspec": {
   "display_name": "Python 3 (ipykernel)",
   "language": "python",
   "name": "python3"
  },
  "language_info": {
   "codemirror_mode": {
    "name": "ipython",
    "version": 3
   },
   "file_extension": ".py",
   "mimetype": "text/x-python",
   "name": "python",
   "nbconvert_exporter": "python",
   "pygments_lexer": "ipython3",
   "version": "3.9.6"
  }
 },
 "nbformat": 4,
 "nbformat_minor": 5
}
